{
  "nbformat": 4,
  "nbformat_minor": 0,
  "metadata": {
    "colab": {
      "name": "Untitled0.ipynb",
      "provenance": [],
      "authorship_tag": "ABX9TyPQrFlpEP8py+yE4wKoqIQj",
      "include_colab_link": true
    },
    "kernelspec": {
      "name": "python3",
      "display_name": "Python 3"
    },
    "language_info": {
      "name": "python"
    }
  },
  "cells": [
    {
      "cell_type": "markdown",
      "metadata": {
        "id": "view-in-github",
        "colab_type": "text"
      },
      "source": [
        "<a href=\"https://colab.research.google.com/github/Sushithvanga/Object-Oriented-Project/blob/main/Untitled0.ipynb\" target=\"_parent\"><img src=\"https://colab.research.google.com/assets/colab-badge.svg\" alt=\"Open In Colab\"/></a>"
      ]
    },
    {
      "cell_type": "code",
      "metadata": {
        "id": "0FWBWTG6M62s"
      },
      "source": [
        ""
      ],
      "execution_count": null,
      "outputs": []
    },
    {
      "cell_type": "code",
      "metadata": {
        "colab": {
          "base_uri": "https://localhost:8080/"
        },
        "id": "F03VnGXtu1E7",
        "outputId": "5c90bb2c-dc24-4f27-d955-d1fdf4b6a593"
      },
      "source": [
        "# Evaluation Metrics for Linear Regression\n",
        "from sklearn.metrics import mean_absolute_error\n",
        "from sklearn.metrics import mean_squared_error\n",
        "\n",
        "print(\"MAE\",mean_absolute_error(y_test,predictions[:482]))\n",
        "print(\"MSE\",mean_squared_error(y_test,predictions[:482]))\n",
        "print(\"RMSE\",np.sqrt(mean_squared_error(y_test,predictions[:482])))\n",
        "print(\"RMSE Logarithmic\",np.log(np.sqrt(mean_squared_error(y_test,predictions[:482]))))\n"
      ],
      "execution_count": null,
      "outputs": [
        {
          "output_type": "stream",
          "name": "stdout",
          "text": [
            "MAE 0.13899483481153863\n",
            "MSE 0.031814106728841766\n",
            "RMSE 0.17836509391930297\n",
            "RMSE Logarithmic -1.7239227398678276\n"
          ]
        }
      ]
    },
    {
      "cell_type": "code",
      "metadata": {
        "colab": {
          "base_uri": "https://localhost:8080/"
        },
        "id": "wPawcabTwLJA",
        "outputId": "a86bb067-371b-4cf8-976c-a34c2ea079aa"
      },
      "source": [
        "from sklearn.metrics import r2_score\n",
        "r2 = r2_score(y_test,predictions[:482])\n",
        "print(r2)"
      ],
      "execution_count": null,
      "outputs": [
        {
          "output_type": "stream",
          "name": "stdout",
          "text": [
            "-0.8242752260247999\n"
          ]
        }
      ]
    }
  ]
}